{
 "cells": [
  {
   "cell_type": "code",
   "execution_count": 2,
   "outputs": [],
   "source": [
    "import pandas as pd\n",
    "\n",
    "def df_column_switch(df, column1, column2):\n",
    "    i = list(df.columns)\n",
    "    a, b = i.index(column1), i.index(column2)\n",
    "    i[b], i[a] = i[a], i[b]\n",
    "    df = df[i]\n",
    "    return df\n",
    "\n",
    "def df_fix_target_left(df):\n",
    "    i = df.columns.tolist()\n",
    "    new_i = i[1:] + [i[0]]\n",
    "    df = df[new_i]\n",
    "    return df\n",
    "\n",
    "def df_fix_arbitrary_position_target(df, target_name):\n",
    "    i = df.columns.tolist()\n",
    "    pos = i.index(target_name)\n",
    "    new_i = i[0:pos] + i[pos + 1:] + [i[pos]]\n",
    "    df = df[new_i]\n",
    "    return df\n",
    "\n",
    "def process_left_target_file(dataset_name):\n",
    "    dataset_raw = pd.read_csv('datasets_list_raw/' + dataset_name + '.csv')\n",
    "    dataset_inverted = df_fix_target_left(dataset_raw)\n",
    "    dataset_inverted.to_csv('datasets_list_final/' + dataset_name + '.csv', index=False)\n",
    "    print(dataset_inverted.columns)\n",
    "\n",
    "def check(dataset_name):\n",
    "    dataset_raw = pd.read_csv('datasets_list_raw/' + dataset_name + '.csv')\n",
    "    print(dataset_raw.columns)\n",
    "\n",
    "def move(dataset_name):\n",
    "    dataset_raw = pd.read_csv('datasets_list_raw/' + dataset_name + '.csv')\n",
    "    dataset_raw.to_csv('datasets_list_final/' + dataset_name + '.csv', index=False)\n",
    "\n",
    "def process_fix_arbitrary_position_target_file(dataset_name, target_name):\n",
    "    dataset_raw = pd.read_csv('datasets_list_raw/' + dataset_name + '.csv')\n",
    "    dataset_inverted = df_fix_arbitrary_position_target(dataset_raw, target_name)\n",
    "    dataset_inverted.to_csv('datasets_list_final/' + dataset_name + '.csv', index=False)\n",
    "    print(dataset_inverted.columns)\n",
    "\n",
    "def process_remove_ID_file(dataset_name):\n",
    "    dataset_raw = pd.read_csv('datasets_list_raw/' + dataset_name + '.csv', index_col=0)\n",
    "    dataset_raw.to_csv('datasets_list_raw/' + dataset_name + '.csv', index=False)\n",
    "    print(dataset_raw.columns)"
   ],
   "metadata": {
    "collapsed": false,
    "pycharm": {
     "name": "#%%\n"
    }
   }
  },
  {
   "cell_type": "markdown",
   "source": [
    "# Titanic (prediction = Survived)"
   ],
   "metadata": {
    "collapsed": false
   }
  },
  {
   "cell_type": "code",
   "execution_count": 85,
   "outputs": [],
   "source": [
    "dataset_raw = pd.read_csv('datasets_list_raw/titanic_raw.csv')\n",
    "dataset_inverted = df_column_switch(dataset_raw, 'Survived', 'Embarked')\n",
    "dataset_inverted.to_csv('datasets_list_final/titanic.csv', index=False)"
   ],
   "metadata": {
    "collapsed": false,
    "pycharm": {
     "name": "#%%\n"
    }
   }
  },
  {
   "cell_type": "markdown",
   "source": [
    "# Higgs (prediction = Prediction)"
   ],
   "metadata": {
    "collapsed": false
   }
  },
  {
   "cell_type": "code",
   "execution_count": 86,
   "outputs": [],
   "source": [
    "dataset_raw = pd.read_csv('datasets_list_raw/higgs_raw.csv')\n",
    "dataset_inverted = df_column_switch(dataset_raw, 'Prediction', 'PRI_jet_all_pt')\n",
    "dataset_inverted.to_csv('datasets_list_final/higgs.csv', index=False)"
   ],
   "metadata": {
    "collapsed": false,
    "pycharm": {
     "name": "#%%\n"
    }
   }
  },
  {
   "cell_type": "markdown",
   "source": [
    "# Hotel (prediction = Hotel)"
   ],
   "metadata": {
    "collapsed": false
   }
  },
  {
   "cell_type": "code",
   "execution_count": 87,
   "outputs": [],
   "source": [
    "dataset_raw = pd.read_csv('datasets_list_raw/hotel_raw.csv')\n",
    "dataset_inverted = df_column_switch(dataset_raw, 'hotel', 'reservation_status_date')\n",
    "dataset_inverted.to_csv('datasets_list_final/hotel.csv', index=False)"
   ],
   "metadata": {
    "collapsed": false,
    "pycharm": {
     "name": "#%%\n"
    }
   }
  },
  {
   "cell_type": "markdown",
   "source": [
    "# Wine (separator)"
   ],
   "metadata": {
    "collapsed": false
   }
  },
  {
   "cell_type": "code",
   "execution_count": 88,
   "outputs": [],
   "source": [
    "dataset_raw_red = pd.read_csv('datasets_list_raw/wine_red_raw.csv', sep=';')\n",
    "dataset_raw_white = pd.read_csv('datasets_list_raw/wine_white_raw.csv', sep=';')\n",
    "dataset_raw_red.to_csv('datasets_list_final/wine_red.csv', index=False)\n",
    "dataset_raw_white.to_csv('datasets_list_final/wine_white.csv', index=False)"
   ],
   "metadata": {
    "collapsed": false,
    "pycharm": {
     "name": "#%%\n"
    }
   }
  },
  {
   "cell_type": "markdown",
   "source": [
    "# monks-problems (prediction = Class)"
   ],
   "metadata": {
    "collapsed": false
   }
  },
  {
   "cell_type": "code",
   "execution_count": 89,
   "outputs": [],
   "source": [
    "dataset_raw = pd.read_csv('datasets_list_raw/monks_raw.csv')\n",
    "dataset_inverted = df_column_switch(dataset_raw, 'class', 'attr6')\n",
    "dataset_inverted.to_csv('datasets_list_final/monks.csv', index=False)"
   ],
   "metadata": {
    "collapsed": false,
    "pycharm": {
     "name": "#%%\n"
    }
   }
  },
  {
   "cell_type": "markdown",
   "source": [
    "# cjs (prediction = TR)"
   ],
   "metadata": {
    "collapsed": false,
    "pycharm": {
     "name": "#%% md\n"
    }
   }
  },
  {
   "cell_type": "code",
   "execution_count": 91,
   "outputs": [],
   "source": [
    "dataset_raw = pd.read_csv('datasets_list_raw/cjs_raw.csv')\n",
    "dataset_inverted = df_column_switch(dataset_raw, 'TR', 'INTERNODE_29')\n",
    "dataset_inverted.to_csv('datasets_list_final/cjs.csv', index=False)"
   ],
   "metadata": {
    "collapsed": false,
    "pycharm": {
     "name": "#%%\n"
    }
   }
  },
  {
   "cell_type": "code",
   "execution_count": 12,
   "outputs": [],
   "source": [
    "process_left_target_file('oil_spill')"
   ],
   "metadata": {
    "collapsed": false,
    "pycharm": {
     "name": "#%%\n"
    }
   }
  },
  {
   "cell_type": "code",
   "execution_count": 17,
   "outputs": [
    {
     "name": "stdout",
     "output_type": "stream",
     "text": [
      "Index(['Sex', 'DVRT', 'Educational_level', 'Prestige_score', 'Type_school',\n",
      "       'Leaving_Certificate'],\n",
      "      dtype='object')\n"
     ]
    }
   ],
   "source": [
    "process_fix_arbitrary_position_target_file('irish', 'Leaving_Certificate')"
   ],
   "metadata": {
    "collapsed": false,
    "pycharm": {
     "name": "#%%\n"
    }
   }
  },
  {
   "cell_type": "code",
   "execution_count": 151,
   "outputs": [
    {
     "name": "stdout",
     "output_type": "stream",
     "text": [
      "Index(['name', '1landmass', '2zone', '3area', 'population', 'language', 'bars',\n",
      "       'stripes', 'colours', 'red', 'green', 'blue', 'gold', 'white', 'black',\n",
      "       'orange', 'mainhue', 'circles', 'crosses', 'saltires', 'quarters',\n",
      "       'sunstars', 'crescent', 'triangle', 'icon', 'animate', 'text',\n",
      "       'topleft', 'botright', 'religion'],\n",
      "      dtype='object')\n"
     ]
    }
   ],
   "source": [
    "process_fix_arbitrary_position_target_file('flags', 'religion')"
   ],
   "metadata": {
    "collapsed": false,
    "pycharm": {
     "name": "#%%\n"
    }
   }
  },
  {
   "cell_type": "code",
   "execution_count": 4,
   "outputs": [],
   "source": [
    "move('credit-g')"
   ],
   "metadata": {
    "collapsed": false,
    "pycharm": {
     "name": "#%%\n"
    }
   }
  },
  {
   "cell_type": "code",
   "execution_count": 6,
   "outputs": [],
   "source": [
    "move('ozone-level-8hr')"
   ],
   "metadata": {
    "collapsed": false,
    "pycharm": {
     "name": "#%%\n"
    }
   }
  },
  {
   "cell_type": "code",
   "execution_count": 8,
   "outputs": [],
   "source": [
    "move('semeion')"
   ],
   "metadata": {
    "collapsed": false,
    "pycharm": {
     "name": "#%%\n"
    }
   }
  },
  {
   "cell_type": "code",
   "execution_count": 10,
   "outputs": [],
   "source": [
    "move('PhishingWebsites')"
   ],
   "metadata": {
    "collapsed": false,
    "pycharm": {
     "name": "#%%\n"
    }
   }
  },
  {
   "cell_type": "code",
   "execution_count": 12,
   "outputs": [
    {
     "name": "stdout",
     "output_type": "stream",
     "text": [
      "Index(['utterance', 'frame', 'coefficient1', 'coefficient2', 'coefficient3',\n",
      "       'coefficient4', 'coefficient5', 'coefficient6', 'coefficient7',\n",
      "       'coefficient8', 'coefficient9', 'coefficient10', 'coefficient11',\n",
      "       'coefficient12', 'speaker'],\n",
      "      dtype='object')\n"
     ]
    }
   ],
   "source": [
    "process_left_target_file('JapaneseVowels')"
   ],
   "metadata": {
    "collapsed": false,
    "pycharm": {
     "name": "#%%\n"
    }
   }
  },
  {
   "cell_type": "code",
   "execution_count": 14,
   "outputs": [],
   "source": [
    "move('ilpd')"
   ],
   "metadata": {
    "collapsed": false,
    "pycharm": {
     "name": "#%%\n"
    }
   }
  },
  {
   "cell_type": "code",
   "execution_count": null,
   "outputs": [],
   "source": [],
   "metadata": {
    "collapsed": false,
    "pycharm": {
     "name": "#%%\n"
    }
   }
  }
 ],
 "metadata": {
  "kernelspec": {
   "display_name": "Python 3",
   "language": "python",
   "name": "python3"
  },
  "language_info": {
   "codemirror_mode": {
    "name": "ipython",
    "version": 2
   },
   "file_extension": ".py",
   "mimetype": "text/x-python",
   "name": "python",
   "nbconvert_exporter": "python",
   "pygments_lexer": "ipython2",
   "version": "2.7.6"
  }
 },
 "nbformat": 4,
 "nbformat_minor": 0
}
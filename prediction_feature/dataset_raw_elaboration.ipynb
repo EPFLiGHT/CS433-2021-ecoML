{
 "cells": [
  {
   "cell_type": "code",
   "execution_count": 49,
   "outputs": [],
   "source": [
    "import pandas as pd\n",
    "\n",
    "def df_column_switch(df, column1, column2):\n",
    "    i = list(df.columns)\n",
    "    a, b = i.index(column1), i.index(column2)\n",
    "    i[b], i[a] = i[a], i[b]\n",
    "    df = df[i]\n",
    "    return df"
   ],
   "metadata": {
    "collapsed": false,
    "pycharm": {
     "name": "#%%\n"
    }
   }
  },
  {
   "cell_type": "markdown",
   "source": [
    "# Used Dataset:\n",
    "- Credit Card (local)\n",
    "- Heart (online)\n",
    "- Higgs (local)\n",
    "- Hotel (online)\n",
    "- Wine r&W (online)\n",
    "- Iris (online)\n",
    "- Titanic (online) (NOT WORKING)\n",
    "- (mouse_type (online) https://www.openml.org/d/1083 (EXCLUDED; TAKES TOO MUCH TIME))\n",
    "- gas_drift (online) https://www.openml.org/d/1477\n",
    "- blood_tranfusion (online) https://www.openml.org/d/1464\n",
    "- tic_tac_toe (online) https://www.openml.org/d/50\n",
    "- steel plate (online) https://www.openml.org/d/1504\n",
    "- spoken_arabic_digit (online) https://www.openml.org/d/1503\n",
    "- nasal_oral_sounds (online) https://www.openml.org/d/1489\n",
    "- spambase (online) https://www.openml.org/d/44\n",
    "- BMG(satimage) (local) https://www.openml.org/d/1183 VERY BIG\n",
    "- eating (online) https://www.openml.org/d/1233 LOW F1 0.4\n",
    "- poker_hand (online) https://www.openml.org/d/1567\n",
    "- oxford_pets (local) https://www.openml.org/d/42819 BIGGEST 2GB"
   ],
   "metadata": {
    "collapsed": false
   }
  },
  {
   "cell_type": "markdown",
   "source": [
    "# Titanic (prediction = Survived)"
   ],
   "metadata": {
    "collapsed": false
   }
  },
  {
   "cell_type": "code",
   "execution_count": 50,
   "outputs": [],
   "source": [
    "dataset_raw = pd.read_csv('datasets_list_raw/titanic_raw.csv')\n",
    "dataset_inverted = df_column_switch(dataset_raw, 'Survived', 'Embarked')\n",
    "dataset_inverted.to_csv('datasets_list_final/titanic.csv', index=False)"
   ],
   "metadata": {
    "collapsed": false,
    "pycharm": {
     "name": "#%%\n"
    }
   }
  },
  {
   "cell_type": "markdown",
   "source": [
    "# Higgs (prediction = Prediction)"
   ],
   "metadata": {
    "collapsed": false
   }
  },
  {
   "cell_type": "code",
   "execution_count": 51,
   "outputs": [],
   "source": [
    "dataset_raw = pd.read_csv('datasets_list_raw/higgs_raw.csv')\n",
    "dataset_inverted = df_column_switch(dataset_raw, 'Prediction', 'PRI_jet_all_pt')\n",
    "dataset_inverted.to_csv('datasets_list_final/higgs.csv', index=False)"
   ],
   "metadata": {
    "collapsed": false,
    "pycharm": {
     "name": "#%%\n"
    }
   }
  },
  {
   "cell_type": "markdown",
   "source": [
    "# Hotel (prediction = Hotel)"
   ],
   "metadata": {
    "collapsed": false
   }
  },
  {
   "cell_type": "code",
   "execution_count": 52,
   "outputs": [],
   "source": [
    "dataset_raw = pd.read_csv('datasets_list_raw/hotel_raw.csv')\n",
    "dataset_inverted = df_column_switch(dataset_raw, 'hotel', 'reservation_status_date')\n",
    "dataset_inverted.to_csv('datasets_list_final/hotel.csv', index=False)"
   ],
   "metadata": {
    "collapsed": false,
    "pycharm": {
     "name": "#%%\n"
    }
   }
  },
  {
   "cell_type": "markdown",
   "source": [
    "# Wine (separator)"
   ],
   "metadata": {
    "collapsed": false
   }
  },
  {
   "cell_type": "code",
   "execution_count": 53,
   "outputs": [],
   "source": [
    "dataset_raw_red = pd.read_csv('datasets_list_raw/wine_red_raw.csv', sep=';')\n",
    "dataset_raw_white = pd.read_csv('datasets_list_raw/wine_white_raw.csv', sep=';')\n",
    "dataset_raw_red.to_csv('datasets_list_final/wine_red.csv', index=False)\n",
    "dataset_raw_white.to_csv('datasets_list_final/wine_white.csv', index=False)"
   ],
   "metadata": {
    "collapsed": false,
    "pycharm": {
     "name": "#%%\n"
    }
   }
  }
 ],
 "metadata": {
  "kernelspec": {
   "display_name": "Python 3",
   "language": "python",
   "name": "python3"
  },
  "language_info": {
   "codemirror_mode": {
    "name": "ipython",
    "version": 2
   },
   "file_extension": ".py",
   "mimetype": "text/x-python",
   "name": "python",
   "nbconvert_exporter": "python",
   "pygments_lexer": "ipython2",
   "version": "2.7.6"
  }
 },
 "nbformat": 4,
 "nbformat_minor": 0
}
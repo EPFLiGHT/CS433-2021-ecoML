{
 "cells": [
  {
   "cell_type": "code",
   "execution_count": 84,
   "outputs": [],
   "source": [
    "import pandas as pd\n",
    "\n",
    "def df_column_switch(df, column1, column2):\n",
    "    i = list(df.columns)\n",
    "    a, b = i.index(column1), i.index(column2)\n",
    "    i[b], i[a] = i[a], i[b]\n",
    "    df = df[i]\n",
    "    return df"
   ],
   "metadata": {
    "collapsed": false,
    "pycharm": {
     "name": "#%%\n"
    }
   }
  },
  {
   "cell_type": "markdown",
   "source": [
    "# Titanic (prediction = Survived)"
   ],
   "metadata": {
    "collapsed": false
   }
  },
  {
   "cell_type": "code",
   "execution_count": 85,
   "outputs": [],
   "source": [
    "dataset_raw = pd.read_csv('datasets_list_raw/titanic_raw.csv')\n",
    "dataset_inverted = df_column_switch(dataset_raw, 'Survived', 'Embarked')\n",
    "dataset_inverted.to_csv('datasets_list_final/titanic.csv', index=False)"
   ],
   "metadata": {
    "collapsed": false,
    "pycharm": {
     "name": "#%%\n"
    }
   }
  },
  {
   "cell_type": "markdown",
   "source": [
    "# Higgs (prediction = Prediction)"
   ],
   "metadata": {
    "collapsed": false
   }
  },
  {
   "cell_type": "code",
   "execution_count": 86,
   "outputs": [],
   "source": [
    "dataset_raw = pd.read_csv('datasets_list_raw/higgs_raw.csv')\n",
    "dataset_inverted = df_column_switch(dataset_raw, 'Prediction', 'PRI_jet_all_pt')\n",
    "dataset_inverted.to_csv('datasets_list_final/higgs.csv', index=False)"
   ],
   "metadata": {
    "collapsed": false,
    "pycharm": {
     "name": "#%%\n"
    }
   }
  },
  {
   "cell_type": "markdown",
   "source": [
    "# Hotel (prediction = Hotel)"
   ],
   "metadata": {
    "collapsed": false
   }
  },
  {
   "cell_type": "code",
   "execution_count": 87,
   "outputs": [],
   "source": [
    "dataset_raw = pd.read_csv('datasets_list_raw/hotel_raw.csv')\n",
    "dataset_inverted = df_column_switch(dataset_raw, 'hotel', 'reservation_status_date')\n",
    "dataset_inverted.to_csv('datasets_list_final/hotel.csv', index=False)"
   ],
   "metadata": {
    "collapsed": false,
    "pycharm": {
     "name": "#%%\n"
    }
   }
  },
  {
   "cell_type": "markdown",
   "source": [
    "# Wine (separator)"
   ],
   "metadata": {
    "collapsed": false
   }
  },
  {
   "cell_type": "code",
   "execution_count": 88,
   "outputs": [],
   "source": [
    "dataset_raw_red = pd.read_csv('datasets_list_raw/wine_red_raw.csv', sep=';')\n",
    "dataset_raw_white = pd.read_csv('datasets_list_raw/wine_white_raw.csv', sep=';')\n",
    "dataset_raw_red.to_csv('datasets_list_final/wine_red.csv', index=False)\n",
    "dataset_raw_white.to_csv('datasets_list_final/wine_white.csv', index=False)"
   ],
   "metadata": {
    "collapsed": false,
    "pycharm": {
     "name": "#%%\n"
    }
   }
  },
  {
   "cell_type": "markdown",
   "source": [
    "# monks-problems (prediction = Class)"
   ],
   "metadata": {
    "collapsed": false
   }
  },
  {
   "cell_type": "code",
   "execution_count": 89,
   "outputs": [],
   "source": [
    "dataset_raw = pd.read_csv('datasets_list_raw/monks_raw.csv')\n",
    "dataset_inverted = df_column_switch(dataset_raw, 'class', 'attr6')\n",
    "dataset_inverted.to_csv('datasets_list_final/monks.csv', index=False)"
   ],
   "metadata": {
    "collapsed": false,
    "pycharm": {
     "name": "#%%\n"
    }
   }
  },
  {
   "cell_type": "markdown",
   "source": [
    "# cjs (prediction = TR)"
   ],
   "metadata": {
    "collapsed": false,
    "pycharm": {
     "name": "#%% md\n"
    }
   }
  },
  {
   "cell_type": "code",
   "execution_count": 91,
   "outputs": [],
   "source": [
    "dataset_raw = pd.read_csv('datasets_list_raw/cjs_raw.csv')\n",
    "dataset_inverted = df_column_switch(dataset_raw, 'TR', 'INTERNODE_29')\n",
    "dataset_inverted.to_csv('datasets_list_final/cjs.csv', index=False)"
   ],
   "metadata": {
    "collapsed": false,
    "pycharm": {
     "name": "#%%\n"
    }
   }
  }
 ],
 "metadata": {
  "kernelspec": {
   "display_name": "Python 3",
   "language": "python",
   "name": "python3"
  },
  "language_info": {
   "codemirror_mode": {
    "name": "ipython",
    "version": 2
   },
   "file_extension": ".py",
   "mimetype": "text/x-python",
   "name": "python",
   "nbconvert_exporter": "python",
   "pygments_lexer": "ipython2",
   "version": "2.7.6"
  }
 },
 "nbformat": 4,
 "nbformat_minor": 0
}
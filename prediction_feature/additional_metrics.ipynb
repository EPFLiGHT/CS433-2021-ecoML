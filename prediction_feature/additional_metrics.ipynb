{
 "cells": [
  {
   "cell_type": "markdown",
   "metadata": {},
   "source": [
    "### average chi2"
   ]
  },
  {
   "cell_type": "code",
   "execution_count": 33,
   "metadata": {
    "pycharm": {
     "name": "#%%\n"
    }
   },
   "outputs": [],
   "source": [
    "import numpy as np\n",
    "import sklearn\n",
    "\n",
    "def average_chi2(df):\n",
    "    X=df[df.columns[:-1]]\n",
    "    y=df[df.columns[-1]]\n",
    "    chi_array,p_values = sklearn.feature_selection.chi2(X, y)\n",
    "    return np.mean(chi_array)"
   ]
  },
  {
   "cell_type": "markdown",
   "source": [
    "### average f-value"
   ],
   "metadata": {
    "collapsed": false
   }
  },
  {
   "cell_type": "code",
   "execution_count": 34,
   "outputs": [],
   "source": [
    "def average_f_value(df):\n",
    "    X=df[df.columns[:-1]]\n",
    "    y=df[df.columns[-1]]\n",
    "    f_array,p_values = sklearn.feature_selection.f_classif(X, y)\n",
    "    return np.mean(f_array)"
   ],
   "metadata": {
    "collapsed": false,
    "pycharm": {
     "name": "#%%\n"
    }
   }
  },
  {
   "cell_type": "markdown",
   "source": [
    "### Dimensionality - Number of attributes divided by the number of instances"
   ],
   "metadata": {
    "collapsed": false
   }
  },
  {
   "cell_type": "code",
   "execution_count": 35,
   "outputs": [],
   "source": [
    "def dimensionality(df):\n",
    "    attributes = len(df.columns)\n",
    "    elements = len(df)\n",
    "    return elements/attributes"
   ],
   "metadata": {
    "collapsed": false,
    "pycharm": {
     "name": "#%%\n"
    }
   }
  },
  {
   "cell_type": "markdown",
   "source": [
    "### Get open ML features"
   ],
   "metadata": {
    "collapsed": false
   }
  },
  {
   "cell_type": "code",
   "source": [
    "from openml.datasets import list_datasets\n",
    "import openml\n",
    "\n",
    "def get_open_ml_features(id):\n",
    "    requested_qualities = ['PercentageOfBinaryFeatures', 'AutoCorrelation', 'EquivalentNumberOfAtts', 'ClassEntropy', 'MaxAttributeEntropy', 'MeanAttributeEntropy', 'MeanSkewnessOfNumericAtts', 'Quartile1AttributeEntropy', 'Quartile1StdDevOfNumericAtts']\n",
    "    d = openml.datasets.get_dataset(id)\n",
    "    qs = d.qualities\n",
    "    dataset__quality_list = [(key, value) for key, value in qs.items()]\n",
    "    filtering =filter(lambda x: x[0] in requested_qualities, dataset__quality_list)\n",
    "\n",
    "    final_list = []\n",
    "    for quality in requested_qualities:\n",
    "        filtering_dict = dict(filtering)\n",
    "        x = (quality,None) if quality not in filtering_dict else (quality,filtering_dict[quality])\n",
    "        final_list.append(x)\n",
    "    return final_list\n",
    "\n",
    "print(get_open_ml_features(55))"
   ],
   "metadata": {
    "collapsed": false,
    "pycharm": {
     "name": "#%%\n"
    }
   },
   "execution_count": 36,
   "outputs": [
    {
     "name": "stdout",
     "output_type": "stream",
     "text": [
      "[('PercentageOfBinaryFeatures', 70.0), ('AutoCorrelation', None), ('EquivalentNumberOfAtts', None), ('ClassEntropy', None), ('MaxAttributeEntropy', None), ('MeanAttributeEntropy', None), ('MeanSkewnessOfNumericAtts', None), ('Quartile1AttributeEntropy', None), ('Quartile1StdDevOfNumericAtts', None)]\n"
     ]
    }
   ]
  },
  {
   "cell_type": "code",
   "execution_count": 36,
   "outputs": [],
   "source": [],
   "metadata": {
    "collapsed": false,
    "pycharm": {
     "name": "#%%\n"
    }
   }
  }
 ],
 "metadata": {
  "kernelspec": {
   "display_name": "Python 3",
   "language": "python",
   "name": "python3"
  },
  "language_info": {
   "codemirror_mode": {
    "name": "ipython",
    "version": 3
   },
   "file_extension": ".py",
   "mimetype": "text/x-python",
   "name": "python",
   "nbconvert_exporter": "python",
   "pygments_lexer": "ipython3",
   "version": "3.9.7"
  }
 },
 "nbformat": 4,
 "nbformat_minor": 1
}
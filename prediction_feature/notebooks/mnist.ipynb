{
 "cells": [
  {
   "cell_type": "markdown",
   "metadata": {
    "pycharm": {
     "name": "#%% md\n"
    }
   },
   "source": [
    "# MNIST and LeNet"
   ]
  },
  {
   "cell_type": "code",
   "execution_count": 1,
   "metadata": {
    "collapsed": false,
    "jupyter": {
     "outputs_hidden": false
    },
    "pycharm": {
     "name": "#%%\n"
    }
   },
   "outputs": [],
   "source": [
    "import torch\n",
    "import torchvision\n",
    "from implementations import LeNetModel\n",
    "from nn_utils import train"
   ]
  },
  {
   "cell_type": "markdown",
   "metadata": {},
   "source": [
    "## Loading MNIST"
   ]
  },
  {
   "cell_type": "code",
   "execution_count": 2,
   "metadata": {
    "collapsed": false,
    "jupyter": {
     "outputs_hidden": false
    },
    "pycharm": {
     "name": "#%%\n"
    }
   },
   "outputs": [],
   "source": [
    "batch_size = 1000\n",
    "dataset_test = torch.utils.data.DataLoader(\n",
    "  torchvision.datasets.MNIST('../data', train=False, download=True, transform=torchvision.transforms.ToTensor()),\n",
    "  batch_size=100,\n",
    "  shuffle=True\n",
    ")\n",
    "dataset_train = torch.utils.data.DataLoader(\n",
    "  torchvision.datasets.MNIST('../data', train=True, download=True, transform=torchvision.transforms.ToTensor()),\n",
    "  batch_size=batch_size,\n",
    "  shuffle=True\n",
    ")"
   ]
  },
  {
   "cell_type": "markdown",
   "metadata": {},
   "source": [
    "## LeNet5 implementation with PyTorch"
   ]
  },
  {
   "cell_type": "code",
   "execution_count": 3,
   "metadata": {
    "collapsed": false,
    "jupyter": {
     "outputs_hidden": false
    },
    "pycharm": {
     "name": "#%%\n"
    }
   },
   "outputs": [
    {
     "name": "stdout",
     "output_type": "stream",
     "text": [
      "LeNetModel(\n",
      "  (conv1): Conv2d(1, 6, kernel_size=(5, 5), stride=(1, 1))\n",
      "  (conv2): Conv2d(6, 16, kernel_size=(5, 5), stride=(1, 1))\n",
      "  (conv2_drop): Dropout2d(p=0.5, inplace=False)\n",
      "  (fc1): Linear(in_features=256, out_features=120, bias=True)\n",
      "  (fc2): Linear(in_features=120, out_features=84, bias=True)\n",
      "  (fc3): Linear(in_features=84, out_features=10, bias=True)\n",
      ")\n"
     ]
    }
   ],
   "source": [
    "model_lenet = LeNetModel()\n",
    "print(model_lenet)"
   ]
  },
  {
   "cell_type": "markdown",
   "metadata": {},
   "source": [
    "## LeNet5 training"
   ]
  },
  {
   "cell_type": "code",
   "execution_count": 4,
   "metadata": {
    "collapsed": false,
    "jupyter": {
     "outputs_hidden": false
    },
    "pycharm": {
     "name": "#%%\n"
    }
   },
   "outputs": [
    {
     "name": "stderr",
     "output_type": "stream",
     "text": [
      "G:\\Giovanni\\Università\\EPFL\\MA1\\ML\\Project 2\\CS433-2021-ecoML\\base.py:90: UserWarning: This pattern has match groups. To actually get the groups, use str.extract.\n",
      "  row = df[df['name'].str.contains(cpu_name)]\n"
     ]
    },
    {
     "name": "stdout",
     "output_type": "stream",
     "text": [
      "CPU not found. Standard TDP=250 assigned.\n",
      "Epoch 0 | Test accuracy: 0.87130\n",
      "Epoch 1 | Test accuracy: 0.92740\n",
      "Epoch 2 | Test accuracy: 0.94530\n",
      "Epoch 3 | Test accuracy: 0.95490\n",
      "Epoch 4 | Test accuracy: 0.96410\n",
      "Epoch 5 | Test accuracy: 0.96740\n",
      "Epoch 6 | Test accuracy: 0.97090\n",
      "Epoch 7 | Test accuracy: 0.97490\n",
      "Epoch 8 | Test accuracy: 0.97900\n",
      "Epoch 9 | Test accuracy: 0.97630\n",
      "accuracy: 0.98\n",
      "########\n",
      "Overall carbon footprint: 9.21e-01 gCO2eq\n",
      "########\n",
      "Carbon footprint due to computations: 9.21e-01 gCO2eq\n",
      "Carbon footprint due to communications: 0.00e+00 gCO2eq\n",
      "This carbon footprint is equivalent to 3.49e-05 incandescent lamps switched to leds.\n"
     ]
    }
   ],
   "source": [
    "from implementations import lenet_neural_network\n",
    "\n",
    "# Parameters\n",
    "num_epochs = 10\n",
    "learning_rate = 1e-3\n",
    "\n",
    "# Training\n",
    "lenet_neural_network(dataset_train, dataset_test, num_epochs, learning_rate)\n"
   ]
  }
 ],
 "metadata": {
  "kernelspec": {
   "name": "pycharm-eba252db",
   "language": "python",
   "display_name": "PyCharm (EPFL)"
  },
  "language_info": {
   "codemirror_mode": {
    "name": "ipython",
    "version": 3
   },
   "file_extension": ".py",
   "mimetype": "text/x-python",
   "name": "python",
   "nbconvert_exporter": "python",
   "pygments_lexer": "ipython3",
   "version": "3.8.12"
  }
 },
 "nbformat": 4,
 "nbformat_minor": 4
}
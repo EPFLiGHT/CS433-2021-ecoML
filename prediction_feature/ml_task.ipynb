{
 "cells": [
  {
   "cell_type": "code",
   "execution_count": 33,
   "metadata": {},
   "outputs": [],
   "source": [
    "from supervised.automl import AutoML\n",
    "from sklearn.model_selection import train_test_split\n",
    "import numpy as np\n",
    "import pandas as pd\n",
    "from contextlib import redirect_stdout\n",
    "import matplotlib.pyplot as plt\n"
   ]
  },
  {
   "cell_type": "markdown",
   "metadata": {},
   "source": [
    "## 1. Models tuned"
   ]
  },
  {
   "cell_type": "code",
   "execution_count": 34,
   "metadata": {},
   "outputs": [],
   "source": [
    "from sklearn.model_selection import RandomizedSearchCV\n",
    "from sklearn.model_selection import GridSearchCV\n",
    "from sklearn.metrics import f1_score"
   ]
  },
  {
   "cell_type": "markdown",
   "metadata": {},
   "source": [
    "### 2.1 Decision Tree"
   ]
  },
  {
   "cell_type": "code",
   "execution_count": 35,
   "metadata": {},
   "outputs": [],
   "source": [
    "from sklearn import tree\n",
    "\n",
    "def decision_tree(df):\n",
    "    X=df[df.columns[:-1]]\n",
    "    y=df[df.columns[-1]]\n",
    "    X_train, X_test, y_train, y_test = train_test_split(X, y, test_size=0.33, random_state=42)\n",
    "    clf = tree.DecisionTreeClassifier()\n",
    "    clf = clf.fit(X_train, y_train)\n",
    "    return f1_score(y_test, clf.predict(X_test), average='macro')\n"
   ]
  },
  {
   "cell_type": "markdown",
   "metadata": {},
   "source": [
    "### 2.2 Random Forest"
   ]
  },
  {
   "cell_type": "code",
   "execution_count": 36,
   "metadata": {},
   "outputs": [],
   "source": [
    "from sklearn.ensemble import RandomForestClassifier\n",
    "def random_forest(df):\n",
    "    X=final_dataset[final_dataset.columns[:-1]]\n",
    "    y=final_dataset[final_dataset.columns[-1]]\n",
    "    X_train, X_test, y_train, y_test = train_test_split(X, y, test_size=0.33, random_state=42)\n",
    "    #hyperparameter-tuning\n",
    "    # Number of trees in random forest\n",
    "    n_estimators = [int(x) for x in np.linspace(start = 10, stop = 100, num = 100)]\n",
    "\n",
    "    # Maximum number of levels in tree\n",
    "    max_depth = [int(x) for x in np.linspace(1, 20, num = 100)]\n",
    "    max_depth.append(None)\n",
    "\n",
    "    # Minimum number of samples required to split a node\n",
    "    min_samples_split = [2, 5, 10]\n",
    "\n",
    "    # Minimum number of samples required at each leaf node\n",
    "    min_samples_leaf = [1, 2, 4]\n",
    "\n",
    "    # Method of selecting samples for training each tree\n",
    "    bootstrap = [True, False]\n",
    "\n",
    "    # Create the random grid\n",
    "    grid = {'n_estimators': n_estimators,\n",
    "                'max_depth': max_depth,\n",
    "                'min_samples_split': min_samples_split,\n",
    "                'min_samples_leaf': min_samples_leaf,\n",
    "                'bootstrap': bootstrap}\n",
    "\n",
    "    rf = RandomForestClassifier()\n",
    "    rf_cv = RandomizedSearchCV(estimator = rf, param_distributions = grid, cv = 5, random_state=42, scoring='f1_macro')\n",
    "    # Fit the random search model\n",
    "    rf_cv.fit(X_train, y_train)\n",
    "    return f1_score(y_test, rf_cv.best_estimator_.predict(X_test), average='macro')"
   ]
  },
  {
   "cell_type": "markdown",
   "metadata": {},
   "source": [
    "### 2.3 kNN"
   ]
  },
  {
   "cell_type": "code",
   "execution_count": 37,
   "metadata": {},
   "outputs": [],
   "source": [
    "from sklearn.neighbors import KNeighborsClassifier\n",
    "def kNN(df):\n",
    "    X=df[df.columns[:-1]]\n",
    "    y=df[df.columns[-1]]\n",
    "    X_train, X_test, y_train, y_test = train_test_split(X, y, test_size=0.33, random_state=42)\n",
    "    #hyperparameter-tuning\n",
    "    knn=KNeighborsClassifier()\n",
    "    #Create grid\n",
    "    param_grid = {\"n_neighbors\": np.arange(1, 25)}\n",
    "    knn_cv = GridSearchCV(knn, param_grid, cv=5, scoring='f1_macro')\n",
    "    # Fit the random search model\n",
    "    knn_cv.fit(X_train,y_train)\n",
    "    return f1_score(y_test, knn_cv.best_estimator_.predict(X_test), average='macro')"
   ]
  },
  {
   "cell_type": "markdown",
   "metadata": {},
   "source": [
    "### 2.4 GradientBoosting"
   ]
  },
  {
   "cell_type": "code",
   "execution_count": 38,
   "metadata": {},
   "outputs": [],
   "source": [
    "from sklearn.ensemble import GradientBoostingClassifier\n",
    "def gradient_boosting(df):\n",
    "    X=df[df.columns[:-1]]\n",
    "    y=df[df.columns[-1]]\n",
    "    X_train, X_test, y_train, y_test = train_test_split(X, y, test_size=0.33, random_state=42)\n",
    "\n",
    "    #hyperparameter-tuning\n",
    "    n_estimators = np.arange(1,100)\n",
    "    learning_rate = np.linspace(start=1e-1, stop=1, num=10)\n",
    "    max_depth = np.arange(1,50)\n",
    "\n",
    "    # Create the random grid\n",
    "    grid = {'n_estimators': n_estimators,\n",
    "            'max_depth': max_depth,\n",
    "            'learning_rate': learning_rate}\n",
    "    clf = GradientBoostingClassifier()\n",
    "    clf_cv = RandomizedSearchCV(estimator = clf, param_distributions = grid, cv = 5, random_state=42, scoring='f1_macro')\n",
    "    \n",
    "    # Fit the random search model\n",
    "    clf_cv.fit(X_train, y_train)\n",
    "    return f1_score(y_test, clf_cv.best_estimator_.predict(X_test), average='macro')\n"
   ]
  },
  {
   "cell_type": "markdown",
   "metadata": {},
   "source": [
    "## 2.Creating dataset with different functions and test models"
   ]
  },
  {
   "cell_type": "markdown",
   "metadata": {},
   "source": [
    "### 1.2 Function definitions"
   ]
  },
  {
   "cell_type": "code",
   "execution_count": 39,
   "metadata": {},
   "outputs": [],
   "source": [
    "def df_column_switch(df, column1, column2):\n",
    "    i = list(df.columns)\n",
    "    a, b = i.index(column1), i.index(column2)\n",
    "    i[b], i[a] = i[a], i[b]\n",
    "    df = df[i]\n",
    "    return df"
   ]
  },
  {
   "cell_type": "code",
   "execution_count": 40,
   "metadata": {},
   "outputs": [],
   "source": [
    "a=1.5\n",
    "b=3\n",
    "def function_log_exp(x,y):\n",
    "    return (np.exp(a*x))/((1/a)*np.log(y+1))\n",
    "def function_log_power(x,y):\n",
    "    return (np.power(x,b))/(np.log(y+1))\n",
    "def function_log(x,y):\n",
    "    return x/(np.log(y+1))"
   ]
  },
  {
   "cell_type": "code",
   "execution_count": 41,
   "metadata": {},
   "outputs": [],
   "source": [
    "def compute_final_dataset(df, function):\n",
    "    #compute value\n",
    "    df['value'] = function(df['F1'], df['time'])\n",
    "\n",
    "    df = df.drop(columns=['F1', 'time', 'consumption','TDP', 'country'])\n",
    "    #keep most green entry for each dataset\n",
    "    final_dataset = df.sort_values('value').drop_duplicates(df.columns[:-2],keep='last')\n",
    "    final_dataset = df_column_switch(final_dataset, 'algo', 'value')\n",
    "    final_dataset = final_dataset.drop(columns = ['value'])\n",
    "    return final_dataset"
   ]
  },
  {
   "cell_type": "code",
   "execution_count": 42,
   "metadata": {},
   "outputs": [],
   "source": [
    "def run_autoML(df):\n",
    "    X_train, X_test, y_train, y_test = train_test_split(df[df.columns[:-1]], df[df.columns[-1]], test_size=0.25)\n",
    "    automl = AutoML(eval_metric='f1', explain_level=1, top_models_to_improve=4, random_state=2, optuna_verbose=False)\n",
    "    automl.fit(X_train, y_train)"
   ]
  },
  {
   "cell_type": "markdown",
   "metadata": {},
   "source": [
    "### 1.2 Selecting best function for evaluating \"greenness\""
   ]
  },
  {
   "cell_type": "code",
   "execution_count": 43,
   "metadata": {
    "collapsed": true
   },
   "outputs": [
    {
     "name": "stdout",
     "output_type": "stream",
     "text": [
      "STEP 0 ------------------------------------------------------------------------ \n"
     ]
    },
    {
     "data": {
      "image/png": "[encoded data removed]",
      "text/plain": [
       "<Figure size 432x288 with 1 Axes>"
      ]
     },
     "metadata": {
      "needs_background": "light"
     },
     "output_type": "display_data"
    },
    {
     "name": "stdout",
     "output_type": "stream",
     "text": [
      "Max F1-score: 0.3957882578318684\n",
      "STEP 1 ------------------------------------------------------------------------ \n"
     ]
    },
    {
     "data": {
      "image/png": "[encoded data removed]",
      "text/plain": [
       "<Figure size 432x288 with 1 Axes>"
      ]
     },
     "metadata": {
      "needs_background": "light"
     },
     "output_type": "display_data"
    },
    {
     "name": "stdout",
     "output_type": "stream",
     "text": [
      "Max F1-score: 0.3841560931916793\n",
      "STEP 2 ------------------------------------------------------------------------ \n"
     ]
    },
    {
     "data": {
      "image/png": "[encoded data removed]",
      "text/plain": [
       "<Figure size 432x288 with 1 Axes>"
      ]
     },
     "metadata": {
      "needs_background": "light"
     },
     "output_type": "display_data"
    },
    {
     "name": "stdout",
     "output_type": "stream",
     "text": [
      "Max F1-score: 0.4507977382655495\n",
      "FINAL\n"
     ]
    },
    {
     "data": {
      "image/png": "[encoded data removed]",
      "text/plain": [
       "<Figure size 432x288 with 1 Axes>"
      ]
     },
     "metadata": {
      "needs_background": "light"
     },
     "output_type": "display_data"
    }
   ],
   "source": [
    "dataset = pd.read_csv('ml_dataset.csv')\n",
    "dataset_cleaned  = dataset[dataset.algo != 'Ensemble']\n",
    "dataset_cleaned = dataset_cleaned.drop(columns=['did'])\n",
    "dataset_cleaned['consumption']=dataset_cleaned['time']*dataset_cleaned['TDP']\n",
    "\n",
    "list_functions=[function_log_exp, function_log_power, function_log]\n",
    "list_models=[{\"name\":\"decision tree\", \"clf\":decision_tree}, {\"name\":\"kNN\", \"clf\":kNN}, {\"name\":\"random forest\", \"clf\":random_forest},{\"name\":\"gradient boosting\",  \"clf\":gradient_boosting}]\n",
    "names=[x['name'] for x in list_models]\n",
    "avarage_f1=[]\n",
    "# with open('out.txt', 'w') as f:\n",
    "#     with redirect_stdout(f):\n",
    "for i,function in enumerate(list_functions):\n",
    "    # run_autoML(final_dataset)\n",
    "    f1_scores=[]\n",
    "    print(f'STEP {i} ------------------------------------------------------------------------ ')\n",
    "    dataset_cleaned_copy=dataset_cleaned.copy()\n",
    "    final_dataset=compute_final_dataset(dataset_cleaned_copy, function)\n",
    "    \n",
    "    #drop na\n",
    "    final_dataset=final_dataset.dropna()\n",
    "    #min-max normalization\n",
    "    #final_dataset[features]=(final_dataset[features]-final_dataset[features].min())/(final_dataset[features].max()-final_dataset[features].min())\n",
    "    for model in list_models:\n",
    "        f1_scores.append(model['clf'](final_dataset))\n",
    "    plt.ylabel(\"F1 Score\")\n",
    "    plt.xlabel(\"Model Used\")\n",
    "    plt.bar(names, f1_scores)\n",
    "    plt.show()\n",
    "    print(f'Max F1-score: {np.max(np.array(f1_scores))}')\n",
    "    avarage_f1.append(np.mean(np.array(f1_scores)))\n",
    "    \n",
    "print(f'FINAL')\n",
    "plt.ylabel(\"Avarage F1 Score\")\n",
    "plt.xlabel(\"Function group Used\")\n",
    "names=[f'Group {i}°' for i in range(len(list_functions))]\n",
    "plt.bar(names, avarage_f1)\n",
    "plt.show()"
   ]
  },
  {
   "cell_type": "markdown",
   "metadata": {},
   "source": [
    "## 3. Compute features for new dataset"
   ]
  },
  {
   "cell_type": "code",
   "execution_count": 505,
   "metadata": {},
   "outputs": [],
   "source": [
    "def encode_y(y):\n",
    "    le = LabelEncoder()\n",
    "    le.fit(y)\n",
    "    y_enc = le.transform(y)\n",
    "    return y_enc\n",
    "\n",
    "\n",
    "def compute_max_corr(df):\n",
    "    y = encode_y(df[df.columns[-1]])\n",
    "    y = pd.Series(y)\n",
    "    corr = df[df.columns[:-1]].corrwith(y)\n",
    "    return np.max(np.absolute(corr))"
   ]
  },
  {
   "cell_type": "code",
   "execution_count": 508,
   "metadata": {},
   "outputs": [],
   "source": [
    "def compute_features(df):\n",
    "    label=df.columns[-1]\n",
    "    features=df.columns[:-1]\n",
    "    computed_features=[]\n",
    "\n",
    "    MajorityClassSize=df.groupby(by=label).size().max()\n",
    "    computed_features.append(MajorityClassSize)\n",
    "\n",
    "    MaxNominalAttDistinctValues=df[features].select_dtypes(exclude=[np.number]).nunique().values.max()#must check this\n",
    "    computed_features.append(MaxNominalAttDistinctValues)\n",
    "\n",
    "    MinorityClassSize=df.groupby(by=label).size().min()\n",
    "    computed_features.append(MinorityClassSize)\n",
    "\n",
    "    NumberOfClasses=df[label].unique().shape[0]\n",
    "    computed_features.append(NumberOfClasses)\n",
    "\n",
    "    NumberOfFeatures=df.shape[1]-1\n",
    "    computed_features.append(NumberOfFeatures)\n",
    "\n",
    "    NumberOfInstances=df.shape[0]\n",
    "    computed_features.append(NumberOfInstances)\n",
    "\n",
    "    NumberOfInstancesWithMissingValues=df.isnull().any(axis=1).sum()\n",
    "    computed_features.append(NumberOfInstancesWithMissingValues)\n",
    "\n",
    "    NumberOfMissingValues=df.isnull().all(axis=1).sum()\n",
    "    computed_features.append(NumberOfMissingValues)\n",
    "\n",
    "    NumberOfNumericFeatures=df[features].select_dtypes([np.number]).shape[1]\n",
    "    computed_features.append(NumberOfNumericFeatures)\n",
    "\n",
    "    NumberOfSymbolicFeatures=df[features].select_dtypes(exclude=[np.number]).shape[1]#must check this\n",
    "    computed_features.append(NumberOfSymbolicFeatures)\n",
    "\n",
    "    max_corr=compute_max_corr(df)\n",
    "    computed_features.append(max_corr)\n",
    "\n",
    "    return np.array(computed_features)"
   ]
  },
  {
   "cell_type": "code",
   "execution_count": null,
   "metadata": {},
   "outputs": [],
   "source": []
  }
 ],
 "metadata": {
  "kernelspec": {
   "display_name": "Python 3",
   "language": "python",
   "name": "python3"
  },
  "language_info": {
   "codemirror_mode": {
    "name": "ipython",
    "version": 3
   },
   "file_extension": ".py",
   "mimetype": "text/x-python",
   "name": "python",
   "nbconvert_exporter": "python",
   "pygments_lexer": "ipython3",
   "version": "3.8.12"
  }
 },
 "nbformat": 4,
 "nbformat_minor": 0
}

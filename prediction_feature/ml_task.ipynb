{
 "cells": [
  {
   "cell_type": "code",
   "execution_count": 5,
   "metadata": {
    "collapsed": true
   },
   "outputs": [
    {
     "name": "stderr",
     "output_type": "stream",
     "text": [
      "\n",
      "A value is trying to be set on a copy of a slice from a DataFrame.\n",
      "Try using .loc[row_indexer,col_indexer] = value instead\n",
      "\n",
      "See the caveats in the documentation: https://pandas.pydata.org/pandas-docs/stable/user_guide/indexing.html#returning-a-view-versus-a-copy\n",
      "\n",
      "A value is trying to be set on a copy of a slice from a DataFrame.\n",
      "Try using .loc[row_indexer,col_indexer] = value instead\n",
      "\n",
      "See the caveats in the documentation: https://pandas.pydata.org/pandas-docs/stable/user_guide/indexing.html#returning-a-view-versus-a-copy\n",
      "\n",
      "A value is trying to be set on a copy of a slice from a DataFrame.\n",
      "Try using .loc[row_indexer,col_indexer] = value instead\n",
      "\n",
      "See the caveats in the documentation: https://pandas.pydata.org/pandas-docs/stable/user_guide/indexing.html#returning-a-view-versus-a-copy\n"
     ]
    },
    {
     "name": "stdout",
     "output_type": "stream",
     "text": [
      "AutoML directory: AutoML_9\n",
      "The task is multiclass_classification with evaluation metric f1\n",
      "AutoML will use algorithms: ['Baseline', 'Linear', 'Decision Tree', 'Random Forest', 'Xgboost', 'Neural Network']\n",
      "AutoML will ensemble available models\n",
      "AutoML steps: ['simple_algorithms', 'default_algorithms', 'ensemble']\n",
      "* Step simple_algorithms will try to check up to 3 models\n",
      "1_Baseline f1 0.347826 trained in 0.92 seconds\n",
      "2_DecisionTree f1 0.782609 trained in 8.99 seconds\n",
      "3_Linear f1 0.521739 trained in 0.71 seconds\n",
      "* Step default_algorithms will try to check up to 3 models\n",
      "4_Default_Xgboost f1 0.826087 trained in 5.53 seconds\n",
      "5_Default_NeuralNetwork f1 0.478261 trained in 0.8 seconds\n",
      "6_Default_RandomForest f1 0.695652 trained in 1.16 seconds\n",
      "* Step ensemble will try to check up to 1 model\n",
      "Ensemble f1 0.826087 trained in 0.19 seconds\n",
      "AutoML fit time: 27.09 seconds\n",
      "AutoML best model: 4_Default_Xgboost\n"
     ]
    },
    {
     "data": {
      "text/plain": "AutoML(eval_metric='f1', explain_level=1, optuna_verbose=False, random_state=2,\n       top_models_to_improve=4)"
     },
     "execution_count": 5,
     "metadata": {},
     "output_type": "execute_result"
    }
   ],
   "source": [
    "from supervised.automl import AutoML\n",
    "from sklearn.model_selection import train_test_split\n",
    "import numpy as np\n",
    "import pandas as pd\n",
    "dataset = pd.read_csv('ml_dataset.csv')\n",
    "dataset_cleaned  = dataset[dataset.algo != 'Ensemble']\n",
    "\n",
    "def df_column_switch(df, column1, column2):\n",
    "    i = list(df.columns)\n",
    "    a, b = i.index(column1), i.index(column2)\n",
    "    i[b], i[a] = i[a], i[b]\n",
    "    df = df[i]\n",
    "    return df\n",
    "\n",
    "dataset_cleaned['log'] = np.log(dataset_cleaned['time'])\n",
    "dataset_cleaned['F1'] = np.power(dataset_cleaned['F1'], 1)\n",
    "dataset_cleaned['value'] = dataset_cleaned['F1'] / dataset_cleaned['log']\n",
    "\n",
    "dataset_cleaned = dataset_cleaned.drop(columns=['log', 'time', 'F1'])\n",
    "final_dataset = dataset_cleaned.sort_values('value').drop_duplicates(['features','points','type', 'TDP','country','max_corr'],keep='last')\n",
    "\n",
    "final_dataset = df_column_switch(final_dataset, 'algo', 'value')\n",
    "final_dataset = final_dataset.drop(columns = ['value'])\n",
    "#final_dataset = final_dataset.drop_duplicates()\n",
    "\n",
    "\n",
    "X_train, X_test, y_train, y_test = train_test_split(final_dataset[final_dataset.columns[:-1]], final_dataset[final_dataset.columns[-1]], test_size=0.25)\n",
    "automl = AutoML(eval_metric='f1', explain_level=1, top_models_to_improve=4, random_state=2, optuna_verbose=False)\n",
    "automl.fit(X_train, y_train)\n"
   ]
  }
 ],
 "metadata": {
  "kernelspec": {
   "display_name": "Python 3",
   "language": "python",
   "name": "python3"
  },
  "language_info": {
   "codemirror_mode": {
    "name": "ipython",
    "version": 2
   },
   "file_extension": ".py",
   "mimetype": "text/x-python",
   "name": "python",
   "nbconvert_exporter": "python",
   "pygments_lexer": "ipython2",
   "version": "2.7.6"
  }
 },
 "nbformat": 4,
 "nbformat_minor": 0
}